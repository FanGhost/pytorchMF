{
 "cells": [
  {
   "cell_type": "markdown",
   "metadata": {},
   "source": [
    "# 通过pytorch 实现一个矩阵分解\n",
    "矩阵分解的原理可以参考http://hameddaily.blogspot.com/2016/12/simple-matrix-factorization-with.html\n",
    "\n",
    "这里通过Pytorch进行一个简单的实现\n",
    "\n",
    "代码是python2的\n"
   ]
  },
  {
   "cell_type": "code",
   "execution_count": 1,
   "metadata": {
    "collapsed": true
   },
   "outputs": [],
   "source": [
    "import torch\n",
    "import pandas as pd \n",
    "import numpy as np\n",
    "from torch.autograd import Variable\n",
    "from numpy.random import randint\n",
    "from sklearn import metrics"
   ]
  },
  {
   "cell_type": "markdown",
   "metadata": {},
   "source": [
    "读入训练集和测试集，这里用的movielens 100k的数据集，数据我清洗过了，清洗后的数据格式如下所示"
   ]
  },
  {
   "cell_type": "code",
   "execution_count": 2,
   "metadata": {
    "collapsed": true
   },
   "outputs": [],
   "source": [
    "trainData = pd.read_csv('ml100k.train.rating',header=None,names=['user','item','rate'],sep='\\t')\n",
    "testData = pd.read_csv('ml100k.test.rating',header=None,names=['user','item','rate'],sep='\\t')\n",
    "\n",
    "userIdx = trainData.user.values\n",
    "itemIdx = trainData.item.values\n",
    "rates = trainData.rate.values"
   ]
  },
  {
   "cell_type": "code",
   "execution_count": 3,
   "metadata": {},
   "outputs": [
    {
     "data": {
      "text/html": [
       "<div>\n",
       "<style>\n",
       "    .dataframe thead tr:only-child th {\n",
       "        text-align: right;\n",
       "    }\n",
       "\n",
       "    .dataframe thead th {\n",
       "        text-align: left;\n",
       "    }\n",
       "\n",
       "    .dataframe tbody tr th {\n",
       "        vertical-align: top;\n",
       "    }\n",
       "</style>\n",
       "<table border=\"1\" class=\"dataframe\">\n",
       "  <thead>\n",
       "    <tr style=\"text-align: right;\">\n",
       "      <th></th>\n",
       "      <th>user</th>\n",
       "      <th>item</th>\n",
       "      <th>rate</th>\n",
       "    </tr>\n",
       "  </thead>\n",
       "  <tbody>\n",
       "    <tr>\n",
       "      <th>0</th>\n",
       "      <td>195</td>\n",
       "      <td>241</td>\n",
       "      <td>3</td>\n",
       "    </tr>\n",
       "    <tr>\n",
       "      <th>1</th>\n",
       "      <td>185</td>\n",
       "      <td>301</td>\n",
       "      <td>3</td>\n",
       "    </tr>\n",
       "    <tr>\n",
       "      <th>2</th>\n",
       "      <td>21</td>\n",
       "      <td>376</td>\n",
       "      <td>1</td>\n",
       "    </tr>\n",
       "    <tr>\n",
       "      <th>3</th>\n",
       "      <td>243</td>\n",
       "      <td>50</td>\n",
       "      <td>2</td>\n",
       "    </tr>\n",
       "    <tr>\n",
       "      <th>4</th>\n",
       "      <td>165</td>\n",
       "      <td>345</td>\n",
       "      <td>1</td>\n",
       "    </tr>\n",
       "  </tbody>\n",
       "</table>\n",
       "</div>"
      ],
      "text/plain": [
       "   user  item  rate\n",
       "0   195   241     3\n",
       "1   185   301     3\n",
       "2    21   376     1\n",
       "3   243    50     2\n",
       "4   165   345     1"
      ]
     },
     "execution_count": 3,
     "metadata": {},
     "output_type": "execute_result"
    }
   ],
   "source": [
    "trainData.head()"
   ]
  },
  {
   "cell_type": "markdown",
   "metadata": {},
   "source": [
    "设置初始参数，这里K为factor的长度取20，正则项参数lambd 取0.00001 学习率1e-6"
   ]
  },
  {
   "cell_type": "code",
   "execution_count": 4,
   "metadata": {},
   "outputs": [],
   "source": [
    "K=20\n",
    "lambd = 0.00001\n",
    "learning_rate =1e-6"
   ]
  },
  {
   "cell_type": "markdown",
   "metadata": {},
   "source": [
    "初始化 矩阵$U$和$P$"
   ]
  },
  {
   "cell_type": "code",
   "execution_count": 5,
   "metadata": {},
   "outputs": [
    {
     "data": {
      "text/plain": [
       "Variable containing:\n",
       "-6.8339e-02  6.7907e-01 -1.8883e+00  ...  -8.2526e-01  1.4129e+00 -9.9104e-01\n",
       "-1.0582e+00  1.1918e+00 -7.3917e-01  ...  -1.8044e+00 -3.6639e-01 -5.5533e-01\n",
       " 9.3784e-01 -6.5192e-01 -2.7269e-01  ...  -2.6185e-01  1.0857e+00  4.8078e-01\n",
       "                ...                   ⋱                   ...                \n",
       "-3.5025e-01  9.3231e-01  7.4405e-01  ...  -8.9989e-02 -5.9873e-01 -1.7450e-01\n",
       " 3.8695e-01 -1.6384e+00 -3.0816e-01  ...   3.3690e-01  2.2259e+00  5.1559e-01\n",
       "-1.6188e-02  7.7720e-01  5.5722e-01  ...   1.5586e+00  1.6987e+00  1.0659e+00\n",
       "[torch.FloatTensor of size 943x20]"
      ]
     },
     "execution_count": 5,
     "metadata": {},
     "output_type": "execute_result"
    }
   ],
   "source": [
    "U = Variable(torch.randn([len(set(userIdx)),K]), requires_grad=True)\n",
    "P = Variable(torch.randn([len(set(itemIdx)),K]), requires_grad=True)\n",
    "U"
   ]
  },
  {
   "cell_type": "markdown",
   "metadata": {},
   "source": [
    "计算矩阵$U$和$P$的乘积，gather函数取得了训练集所对应的数据，然后计算loss"
   ]
  },
  {
   "cell_type": "code",
   "execution_count": 6,
   "metadata": {
    "collapsed": true
   },
   "outputs": [],
   "source": [
    "R = torch.mm(U,P.t())\n",
    "ratesPred = torch.gather(R.view(1,-1)[0],0,Variable(torch.LongTensor (userIdx * len(set(itemIdx)) + itemIdx)))\n",
    "diff_op = ratesPred - Variable(torch.FloatTensor(rates))\n",
    "baseLoss = diff_op.pow(2).sum()\n",
    "\n"
   ]
  },
  {
   "cell_type": "markdown",
   "metadata": {},
   "source": [
    "计算正则项，这里采用的是L2的正则，注释中的为L1正则"
   ]
  },
  {
   "cell_type": "code",
   "execution_count": 7,
   "metadata": {
    "collapsed": true
   },
   "outputs": [],
   "source": [
    "#regularizer = lambd* (U.abs().sum()+P.abs().sum())\n",
    "regularizer = lambd* (U.pow(2).sum()+P.pow(2).sum())\n",
    "loss = baseLoss + regularizer   "
   ]
  },
  {
   "cell_type": "markdown",
   "metadata": {},
   "source": [
    "选择优化方法，这里使用了随机梯度下降，注释中的为Adam"
   ]
  },
  {
   "cell_type": "code",
   "execution_count": 8,
   "metadata": {
    "collapsed": true
   },
   "outputs": [],
   "source": [
    "#optimizer = torch.optim.Adam([U,P], lr = learning_rate)\n",
    "optimizer = torch.optim.SGD([U,P], lr = learning_rate,momentum = 0.9)"
   ]
  },
  {
   "cell_type": "markdown",
   "metadata": {},
   "source": [
    "算法迭代迭代250次，每隔50次打印一次当前的loss值"
   ]
  },
  {
   "cell_type": "code",
   "execution_count": 9,
   "metadata": {},
   "outputs": [
    {
     "name": "stdout",
     "output_type": "stream",
     "text": [
      "3.40576e+06\n",
      "23.4698\n",
      "17.0843\n",
      "15.6253\n",
      "17.085\n"
     ]
    }
   ],
   "source": [
    "for i in range(250):\n",
    "    loss.backward()\n",
    "    optimizer.step()\n",
    "    R = torch.mm(U,P.t())\n",
    "    if i %50 ==0:\n",
    "        print (loss.data.numpy()[0])\n",
    "    ratesPred = torch.gather(R.view(1,-1)[0],0,Variable(torch.LongTensor (userIdx * len(set(itemIdx)) + itemIdx)))\n",
    "    diff_op = ratesPred - Variable(torch.FloatTensor(rates))\n",
    "    baseLoss = diff_op.pow(2).mean()#torch.abs()\n",
    "    #baseLoss = torch.sum(diff_abs)\n",
    "    #regularizer = lambd* (U.abs().sum()+P.abs().sum())\n",
    "    regularizer = lambd* (U.pow(2).sum()+P.pow(2).sum())\n",
    "    loss = baseLoss + regularizer"
   ]
  },
  {
   "cell_type": "markdown",
   "metadata": {},
   "source": [
    "测试算法效果，使用MAE"
   ]
  },
  {
   "cell_type": "code",
   "execution_count": 10,
   "metadata": {},
   "outputs": [
    {
     "data": {
      "text/plain": [
       "4.0511918"
      ]
     },
     "execution_count": 10,
     "metadata": {},
     "output_type": "execute_result"
    }
   ],
   "source": [
    "def getMAE():\n",
    "    userIdx = testData.user.values\n",
    "    itemIdx = testData.item.values\n",
    "    rates = testData.rate.values\n",
    "    R = torch.mm(U,P.t())\n",
    "    ratesPred = torch.gather(R.view(1,-1)[0],0,Variable(torch.LongTensor (userIdx * len(set(itemIdx)) + itemIdx)))\n",
    "    diff_op = ratesPred - Variable(torch.FloatTensor(rates))\n",
    "    MAE = diff_op.abs().mean()\n",
    "    return MAE.data.numpy()[0]\n",
    "getMAE()"
   ]
  },
  {
   "cell_type": "markdown",
   "metadata": {},
   "source": [
    "由于这边数据集是implicit feedback 的，所以结果不是很好，后面我们再来讨论如何解决这一问题"
   ]
  }
 ],
 "metadata": {
  "kernelspec": {
   "display_name": "Python 2",
   "language": "python",
   "name": "python2"
  },
  "language_info": {
   "codemirror_mode": {
    "name": "ipython",
    "version": 2
   },
   "file_extension": ".py",
   "mimetype": "text/x-python",
   "name": "python",
   "nbconvert_exporter": "python",
   "pygments_lexer": "ipython2",
   "version": "2.7.13"
  }
 },
 "nbformat": 4,
 "nbformat_minor": 2
}
